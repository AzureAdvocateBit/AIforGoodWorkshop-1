{
 "cells": [
  {
   "cell_type": "markdown",
   "metadata": {},
   "source": [
    "# Custom Vision with R\n",
    "\n",
    "## Not Hotdog\n",
    "\n",
    "This example uses the Microsoft Custom Vision API create a function that identifies\n",
    "whether an image on the web is a hot dog ... or not a hotdog. (Inspired by an [episode of Silicon Valley](https://www.youtube.com/watch?v=ACmydtFDTGs).) \n",
    "\n",
    "For an overview of the application, take a look at [this blog post](http://blog.revolutionanalytics.com/2018/04/not-hotdog.html). If you'd prefer to use R or RStudio on your laptop to run this script, you can [download this Github repository](https://github.com/revodavid/nothotdog).\n",
    "\n",
    "Here are some useful references:\n",
    "\n",
    "* [Overview of Custom Vision API](https://docs.microsoft.com/en-us/azure/cognitive-services/custom-vision-service/home)\n",
    "* [Custom Vision Training API reference](https://southcentralus.dev.cognitive.microsoft.com/docs/services/fde264b7c0e94a529a0ad6d26550a761/operations/59568ae208fa5e09ecb9983a)\n",
    "* [Custom Vision Prediction API reference](https://southcentralus.dev.cognitive.microsoft.com/docs/services/57982f59b5964e36841e22dfbfe78fc1/operations/5a3044f608fa5e06b890f164)\n",
    "\n",
    "The Custom Vision API also has a Web interface. As you work through this example, you can see the \n",
    "effects of your API calls as you go by browsing to\n",
    "https://www.customvision.ai/projects and logging in with your Microsoft Account.\n",
    "\n",
    "**Note**: The Custom Vision API is in preview, which means that these APIs may change in the future. Custom Vision is only\n",
    "available in the South Central US region while it's in preview, so we won't worry about regions in this example.\n",
    "\n",
    "## Create authorization keys for Custom Vision\n",
    "\n",
    "1. Visit https://portal.azure.com (and sign in if needed)\n",
    "2. Click \"+ Create a Resource\" (top-left corner)\n",
    "3. With the \"Search the Marketplace\" box, search for \"Custom Vision Service\"\n",
    "4. Select \"Custom Vision Service (preview)\" and click \"Create\"\n",
    "    * Name: qcon-customvision\n",
    "    * Subscription: _there should be just one option_\n",
    "    * Location: South Central US\n",
    "    * Prediction Pricing Tier: F0 (free, 2 transactions per second)\n",
    "    * Training pricing Tier: F0 (2 projects)\n",
    "    * Resource Group: Use existing \"odsc\" group\n",
    "5. Click \"Create\"\n"
   ]
  },
  {
   "cell_type": "code",
   "execution_count": null,
   "metadata": {},
   "outputs": [],
   "source": [
    "library(httr)\n",
    "library(jsonlite)"
   ]
  },
  {
   "cell_type": "markdown",
   "metadata": {},
   "source": [
    "Download the `keys.txt` file and edit it to provide your own API keys. Follow the directions in `README.md` to create a Custom Vision resource in the Azure Portal, and retrieve Key 1 from the `qconcustomvision` and `qconcustomvision_Prediction` resources."
   ]
  },
  {
   "cell_type": "code",
   "execution_count": 2,
   "metadata": {},
   "outputs": [
    {
     "name": "stdout",
     "output_type": "stream",
     "text": [
      "                                    key\n",
      "region                           eastus\n",
      "vision bd27c70c52b341b0bbdf32eea070f28e\n",
      "custom 56ca7a2584d84152af136db676de702e\n"
     ]
    }
   ],
   "source": [
    "## Retrieve API keys from keys.txt file, set API endpoint \n",
    "keys <- read.table(\"keysds.txt\", header=TRUE, stringsAsFactors = FALSE)\n",
    "\n",
    "region <- keys[\"region\",1]\n",
    "## We won't actually use the region here, except as a check that keys.txt has been edited\n",
    "if (region==\"ERROR-EDIT-KEYS.txt-FILE\") \n",
    " stop(\"Edit the file keys.txt to provide valid keys. See README.md for details.\")\n",
    "\n",
    "## retrieve custom vision key\n",
    "cvision_api_key <- keys[\"custom\",1]\n",
    "cvision_pred_key <- keys[\"cvpred\",1]\n",
    "cvision_api_endpoint <- \"https://southcentralus.api.cognitive.microsoft.com/customvision/v1.1/Training\"\n",
    "\n",
    "print(keys)\n"
   ]
  },
  {
   "cell_type": "code",
   "execution_count": 3,
   "metadata": {},
   "outputs": [
    {
     "data": {
      "text/html": [
       "NA"
      ],
      "text/latex": [
       "NA"
      ],
      "text/markdown": [
       "NA"
      ],
      "text/plain": [
       "[1] NA"
      ]
     },
     "metadata": {},
     "output_type": "display_data"
    }
   ],
   "source": [
    "cvision_pred_key"
   ]
  },
  {
   "cell_type": "markdown",
   "metadata": {},
   "source": [
    "The first step is to create a project using the Custom Vision API. When creating a project, you can optionally use specialized domains like Landmarks or Retail to better identify images. We'll use the \"Food\" domain, and look up the ID code of the Food domain using the API, and them use that when creating our project."
   ]
  },
  {
   "cell_type": "code",
   "execution_count": null,
   "metadata": {},
   "outputs": [],
   "source": [
    "## Get the list of available training domains\n",
    "domainsURL <- paste0(cvision_api_endpoint, \"/domains\")\n",
    "\n",
    "APIresponse = GET(url = domainsURL,\n",
    "                   content_type_json(),\n",
    "                   add_headers(.headers= c('Training-key' = cvision_api_key)),\n",
    "                   body=\"\",\n",
    "                   encode=\"json\")\n",
    "\n",
    "domains <- content(APIresponse)\n",
    "print(domains)\n",
    "domains.Food <- domains[[2]]$Id\n",
    "\n",
    "## Create a project\n",
    "createURL <- paste0(cvision_api_endpoint, \"/projects?\",\n",
    "                    \"name=qconhotdog&\",\n",
    "                    'description=NotHotdog&',\n",
    "                    'domainId=',domains.Food)\n",
    "\n",
    "APIresponse = POST(url = createURL,\n",
    "                   content_type_json(),\n",
    "                   add_headers(.headers= c('Training-key' = cvision_api_key)),\n",
    "                   body=\"\",\n",
    "                   encode=\"json\")\n",
    "\n",
    "cvision_id <- content(APIresponse)$Id"
   ]
  },
  {
   "cell_type": "code",
   "execution_count": null,
   "metadata": {},
   "outputs": [],
   "source": [
    "## Next, create tags we will use to label the images\n",
    "## We will use \"hotdog\" for hot dog images and \"nothotdog\" for similar looking foods\n",
    "## We will save the tag ids returned by the API for use later\n",
    "\n",
    "## function to create one tag, and return its id\n",
    "createTag <- function(id, tagname) {\n",
    " eURL <- paste0(cvision_api_endpoint, \"/projects/\", id, \"/tags?\",\n",
    "                \"name=\",tagname)\n",
    " \n",
    " APIresponse = POST(url = eURL,\n",
    "                    content_type_json(),\n",
    "                    add_headers(.headers= c('Training-key' = cvision_api_key)),\n",
    "                    body=\"\",\n",
    "                    encode=\"json\")\n",
    "\n",
    " content(APIresponse)$Id \n",
    "}\n",
    "\n",
    "hotdog_tag <- createTag(cvision_id, \"hotdog\")\n",
    "nothotdog_tag <- createTag(cvision_id, \"nothotdog\")\n",
    "tags <- c(hotdog = hotdog_tag, nothotdog=nothotdog_tag)\n",
    "tags"
   ]
  },
  {
   "cell_type": "markdown",
   "metadata": {},
   "source": [
    "This is a good opportunity to visit https://customvision.ai and log in to see your project. It's empty for now, but with our two tags defined. We'll upload pictures of hotdogs under the \"hotdog\" tag, and pictures of tacos, hamburgers, etc. under the \"nothotdog\" tag.\n",
    "\n",
    "Note that our app will actually be classifying _three_ types of images: hotdogs, tacos/hamburgers, and eveything else. When building a classifier, it's useful to include a category of images likely to be mistaken for your target image -- that's why we chose tacos and hamburgers. You can use the same technique to create a classifier that detects multiple image types; for example, you could add a \"pizza\" tag and also upload images of pizza.\n",
    "\n",
    "We created the files `hotdogs-good.txt` and `nothotdogs-good.txt`\n",
    "using ImageNet data and some visual inspection. See the file \n",
    "`nothotdog-find-data.R` if you want to see how it was done."
   ]
  },
  {
   "cell_type": "code",
   "execution_count": null,
   "metadata": {},
   "outputs": [],
   "source": [
    "## Read in a file of URLs of images of hotdogs, and also a file\n",
    "## of URL of images that are somewhat similar to, but not, hotdogs\n",
    "hotdogs <- scan(\"hotdogs-good.txt\",what=character())\n",
    "nothotdogs <- scan(\"nothotdogs-good.txt\", what=character())\n",
    "\n",
    "## A function to upload images to Custom Vision\n",
    "uploadURLs <- function(id, tagname, urls) {\n",
    " ## id: Project ID\n",
    " ## tagname: one tag (applued to all URLs), as a tag ID\n",
    " ## urls: vector of image URLs\n",
    "\n",
    " eURL <- paste0(cvision_api_endpoint, \"/projects/\", id, \"/images/url\")\n",
    " success <- logical(0)\n",
    "  \n",
    " ## The API accepts 64 URLs at a time, max, so:\n",
    " while(length(urls) > 0) {\n",
    "\n",
    "  N <- min(length(urls), 64) \n",
    "  urls.body <- toJSON(list(TagIds=tagname, Urls=urls[1:N]))\n",
    "\n",
    "  APIresponse = POST(url = eURL,\n",
    "                    content_type_json(),\n",
    "                    add_headers(.headers= c('Training-key' = cvision_api_key)),\n",
    "                    body=urls.body,\n",
    "                    encode=\"json\")\n",
    " \n",
    "  success <- c(success,content(APIresponse)$IsBatchSuccessful)\n",
    "  urls <- urls[-(1:N)]\n",
    " }\n",
    " all(success)\n",
    "}\n",
    "\n",
    "## Upload the images to Custom Vision. Should return TRUE in both cases, indicating success.\n",
    "## If you do get some FALSE results, it's probably because some URLs were unavailable.\n",
    "uploadURLs(cvision_id, tags[\"hotdog\"], hotdogs)\n",
    "uploadURLs(cvision_id, tags[\"nothotdog\"], nothotdogs)"
   ]
  },
  {
   "cell_type": "markdown",
   "metadata": {},
   "source": [
    "Take another look at your project at https://customvision.ai . You'll now see the project populated with images, classified as `hotdog` and `nothotdog`.\n",
    "\n",
    "We can alse check on the status of the project via the API:"
   ]
  },
  {
   "cell_type": "code",
   "execution_count": 7,
   "metadata": {},
   "outputs": [
    {
     "ename": "ERROR",
     "evalue": "Error in GET(url = projURL, content_type_json(), add_headers(.headers = c(`Training-key` = cvision_api_key)), : could not find function \"GET\"\n",
     "output_type": "error",
     "traceback": [
      "Error in GET(url = projURL, content_type_json(), add_headers(.headers = c(`Training-key` = cvision_api_key)), : could not find function \"GET\"\nTraceback:\n"
     ]
    }
   ],
   "source": [
    "## Get status of projects\n",
    "projURL <- paste0(cvision_api_endpoint, \"/projects/\")\n",
    "\n",
    "APIresponse = GET(url = projURL,\n",
    "                   content_type_json(),\n",
    "                   add_headers(.headers= c('Training-key' = cvision_api_key)),\n",
    "                   body=\"\",\n",
    "                   encode=\"json\")\n",
    "\n",
    "projStatus <- content(APIresponse)\n",
    "\n",
    "## These two will be the same unless you have more than one project\n",
    "print(projStatus[[1]]$Id)\n",
    "print(cvision_id)"
   ]
  },
  {
   "cell_type": "code",
   "execution_count": null,
   "metadata": {},
   "outputs": [],
   "source": [
    "## Train project\n",
    "trainURL <- paste0(cvision_api_endpoint, \"/projects/\",\n",
    "                   cvision_id,\n",
    "                   \"/train\")\n",
    "\n",
    "APIresponse = POST(url = trainURL,\n",
    "                   content_type_json(),\n",
    "                   add_headers(.headers= c('Training-key' = cvision_api_key)),\n",
    "                   body=\"\",\n",
    "                   encode=\"json\")\n",
    "\n",
    "trainOut <- content(APIresponse)\n",
    "\n",
    "if(!is.null(trainOut$Code)) print(trainOut$Message) else\n",
    "  train.id <- content(APIresponse)$Id\n",
    "\n",
    "print(train.id)"
   ]
  },
  {
   "cell_type": "code",
   "execution_count": null,
   "metadata": {},
   "outputs": [],
   "source": [
    "## Function to check status of a trained model (iteration)\n",
    "\n",
    "iterStatus <- function(id) {\n",
    " iterURL <- paste0(cvision_api_endpoint, \"/projects/\",\n",
    "                    cvision_id,\n",
    "                    \"/iterations/\",\n",
    "                    id)\n",
    " \n",
    " APIresponse = GET(url = iterURL,\n",
    "                    content_type_json(),\n",
    "                    add_headers(.headers= c('Training-key' = cvision_api_key)),\n",
    "                    body=\"\",\n",
    "                    encode=\"json\")\n",
    " \n",
    " content(APIresponse)$Status\n",
    "}"
   ]
  },
  {
   "cell_type": "code",
   "execution_count": null,
   "metadata": {},
   "outputs": [],
   "source": [
    "## Keep checking this until the status is: Completed\n",
    "iterStatus(train.id)"
   ]
  },
  {
   "cell_type": "markdown",
   "metadata": {},
   "source": [
    "Now, visit https://customvision.ai, select your project and click the \"Performance\" tab. Experiment with moving the Probability Threshold slider, and note that you can decrease it (improving Recall) while generally maintaining Precision. This will be useful later.\n",
    "\n",
    "We now need to provide our Prediction API key. If you didn't already retrieve it from the Azure Portal and include it\n",
    "in `keys.txt` you can follow these instructions instead:\n",
    "\n",
    "1. Visit https://customvision.ai\n",
    "2. Click \"Sign In\"\n",
    "3. Wait for projects to load, and then click your \"qconhotdog\" project\n",
    "4. Click on Performance. Here you can check the precision and recall of your trained model.\n",
    "5. Click on Prediction URL, and look at the \"If you have an image URL\" section\n",
    "6. Check that the first part of the URL in the gray box matches cvision_api_endpoint_pred, below\n",
    "7. Copy the key listed by \"Set Prediction-Key Header to:\" to `cvision_pred_key` below\n",
    "\n",
    "You can also retrieve this key from the Azure Portal, by inspecting keys of the `qconcustomvision_Prediction` resource (this was created automatically when you created the `qconcustomvision` resource)."
   ]
  },
  {
   "cell_type": "code",
   "execution_count": 6,
   "metadata": {},
   "outputs": [
    {
     "name": "stdout",
     "output_type": "stream",
     "text": [
      "[1] \"f39a6e96c89c4b08ae660b2e0d4145c5\"\n"
     ]
    }
   ],
   "source": [
    "cvision_api_endpoint_pred <- \"https://southcentralus.api.cognitive.microsoft.com/customvision/v1.1/Prediction\"\n",
    "\n",
    "## If you did not edit keys.txt to include your own cvpred key, then\n",
    "## replace the key below with your prediction key, per the instructions above\n",
    "## (this one won't work)\n",
    "if(is.na(cvision_pred_key))\n",
    " cvision_pred_key<-\"f39a6e96c89c4b08ae660b2e0d4145c5\"\n",
    "print(cvision_pred_key)"
   ]
  },
  {
   "cell_type": "markdown",
   "metadata": {},
   "source": [
    "Now, we'll write a function to classify an image.\n",
    "\n",
    "The prediction API will return a classification probability for both of our tags, `hotdog` and `nothotdog`. We'll use the following rules, with a default threshold of 50%:\n",
    "\n",
    "* If the `hotdog` probability is above the threshold, classify as \"hotdog\"\n",
    "* Otherwise, if the `nothotdog` probability is above the threshold, classify as \"non-hotdog food\"\n",
    "* Otherwise, classify as \"not hotdog\"."
   ]
  },
  {
   "cell_type": "code",
   "execution_count": null,
   "metadata": {},
   "outputs": [],
   "source": [
    "## Function to generate predictions from a single URL, with classifier cutoff threshold (0-1)\n",
    "hotdog_predict <- function(imageURL, threshold = 0.5) {\n",
    " predURL <- paste0(cvision_api_endpoint_pred, \"/\", cvision_id,\"/url?\",\n",
    "                   \"iterationId=\",train.id,\n",
    "                   \"&application=R\"\n",
    "                   )\n",
    "\n",
    " body.pred <- toJSON(list(Url=imageURL[1]), auto_unbox = TRUE)\n",
    "\n",
    " APIresponse = POST(url = predURL,\n",
    "                    content_type_json(),\n",
    "                    add_headers(.headers= c('Prediction-key' = cvision_pred_key)),\n",
    "                    body=body.pred,\n",
    "                    encode=\"json\")\n",
    " \n",
    " out <- content(APIresponse)\n",
    " \n",
    " if(!is.null(out$Code)) msg <- paste0(\"Can't analyze: \", out$Message) else\n",
    " {  \n",
    "  predmat <- matrix(unlist(out$Predictions), nrow=3)\n",
    "  preds <- as.numeric(predmat[3,])\n",
    "  names(preds) <- predmat[2,]\n",
    "  \n",
    "  ## uncomment this to see the class predictions\n",
    "  ## print(preds)\n",
    "  \n",
    "  if(preds[\"hotdog\"]>threshold) msg <- \"Hotdog\" else\n",
    "   if(preds[\"nothotdog\"]>threshold) msg <- \"Not Hotdog (but it looks delicious!)\" else\n",
    "    msg <- \"Not Hotdog\"\n",
    "  }\n",
    "\n",
    "  ## print the URL -- it will become clickable in the notebook\n",
    "  cat(imageURL[1],\"\\n\")\n",
    "  msg\n",
    "}"
   ]
  },
  {
   "cell_type": "code",
   "execution_count": null,
   "metadata": {},
   "outputs": [],
   "source": [
    "## Since these images were in our training data, most of these should be correct.\n",
    "## The exact nunber is determined by the threshold (here, 50%) and the Recall statistic\n",
    "hotdog_predict(hotdogs[1])\n",
    "hotdog_predict(nothotdogs[1])"
   ]
  },
  {
   "cell_type": "code",
   "execution_count": null,
   "metadata": {},
   "outputs": [],
   "source": [
    "## here are some images to try, from a Google Image Search for \"hotdog\n",
    "example.hotdogs <- c(\n",
    " \"http://www.wienerschnitzel.com/wp-content/uploads/2014/10/hotdog_mustard-main.jpg\",\n",
    " \"https://qz.com/wp-content/uploads/2017/07/hotdogs2__2__720.jpg?quality=80&strip=all\",\n",
    " \"http://www.americangarden.us/wp-content/uploads/2016/10/Recipe_Hot-dog-sandwich.jpg\",\n",
    " \"http://www.hot-dog.org/sites/default/files/pictures/hot-dogs-on-the-grill-sm.jpg\",\n",
    " \"https://www.dairyqueen.com/Global/Food/Hot-Dogs_8-to-1_470x500.jpg?width=&height=810\"\n",
    ")\n",
    "\n",
    "## and a few Not Hotdog images to try\n",
    "example.nothotdogs <- c(\n",
    " \"https://upload.wikimedia.org/wikipedia/commons/thumb/4/46/Burrito_with_rice.jpg/1200px-Burrito_with_rice.jpg\", #burrito\n",
    " \"https://www.biggerbolderbaking.com/wp-content/uploads/2015/12/IMG_8761.jpg\", # croissant\n",
    " \"https://bigoven-res.cloudinary.com/image/upload/t_recipe-480/sausage-rolls.jpg\", #sausage roll\n",
    " \"https://www.recipetineats.com/wp-content/uploads/2017/09/Spring-Rolls-6.jpg\", #spring rolls\n",
    " \"https://images-gmi-pmc.edge-generalmills.com/b8488ce5-b076-420d-b0d0-e83039cae278.jpg\" # jelly roll\n",
    ")"
   ]
  },
  {
   "cell_type": "code",
   "execution_count": null,
   "metadata": {},
   "outputs": [],
   "source": [
    "## try out the other examples as well\n",
    "hotdog_predict(example.hotdogs[2])\n",
    "hotdog_predict(example.nothotdogs[2])"
   ]
  },
  {
   "cell_type": "code",
   "execution_count": null,
   "metadata": {},
   "outputs": [],
   "source": [
    "## Here's an example where the classification is wrong, at the 50% threshold\n",
    "hotdog_predict(example.nothotdogs[4])"
   ]
  },
  {
   "cell_type": "code",
   "execution_count": null,
   "metadata": {},
   "outputs": [],
   "source": [
    "## We can be more conservative, at the expense of misclassifying some actual hotdogs\n",
    "hotdog_predict(example.nothotdogs[4], threshold = 0.70)\n",
    "hotdog_predict(example.hotdogs[3], threshold = 0.7)"
   ]
  }
 ],
 "metadata": {
  "kernelspec": {
   "display_name": "R",
   "language": "R",
   "name": "ir"
  },
  "language_info": {
   "codemirror_mode": "r",
   "file_extension": ".r",
   "mimetype": "text/x-r-source",
   "name": "R",
   "pygments_lexer": "r",
   "version": "3.4.3"
  }
 },
 "nbformat": 4,
 "nbformat_minor": 2
}
